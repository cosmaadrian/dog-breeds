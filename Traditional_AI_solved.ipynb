{
  "nbformat": 4,
  "nbformat_minor": 0,
  "metadata": {
    "colab": {
      "name": "Traditional AI",
      "provenance": [],
      "collapsed_sections": [],
      "toc_visible": true
    },
    "kernelspec": {
      "name": "python3",
      "display_name": "Python 3"
    }
  },
  "cells": [
    {
      "cell_type": "markdown",
      "metadata": {
        "id": "ErreoBL6M0Tb",
        "colab_type": "text"
      },
      "source": [
        "# Epoch 2.2 - Traditional AI\n",
        "\n",
        "## Resources\n",
        "This epoch we will explore methods for **EDA** (Exploratory Data Analysis), **Data Cleaning** and **Pre-Processing** and methods for applying simple **Regression** and **Classification** techniques.\n",
        "\n",
        "\n"
      ]
    },
    {
      "cell_type": "markdown",
      "metadata": {
        "id": "HIyX6CHYOasd",
        "colab_type": "text"
      },
      "source": [
        "For more information on these topics, do refer to some of these resources:\n",
        "\n",
        "- [Stanford Lecture on Exploratory Data Analysis](https://web.stanford.edu/class/archive/cs/cs448b/cs448b.1166/cgi-bin/wiki/images/4/44/Lec448B-20160406.pdf)\n",
        "\n",
        "- [Stanford Lecture on Linear Regression](https://lagunita.stanford.edu/c4x/HumanitiesScience/StatLearning/asset/linear_regression.pdf)\n",
        "\n",
        "- Classification\n",
        "  - [Tree-based Methods](https://lagunita.stanford.edu/c4x/HumanitiesScience/StatLearning/asset/trees.pdf)\n",
        "  - K-Nearest Neighbors\n",
        "    - [Demo](http://vision.stanford.edu/teaching/cs231n-demos/knn/)\n",
        "    - [MIT Lecture](https://ocw.mit.edu/courses/sloan-school-of-management/15-097-prediction-machine-learning-and-statistics-spring-2012/lecture-notes/MIT15_097S12_lec06.pdf)\n",
        "  - [SVM](https://www.cs.princeton.edu/courses/archive/spring16/cos495/slides/ML_basics_lecture4_SVM_I.pdf)\n"
      ]
    },
    {
      "cell_type": "markdown",
      "metadata": {
        "id": "0U0ma9blNoje",
        "colab_type": "text"
      },
      "source": [
        "\n",
        "## Cheat-Sheets\n",
        "\n",
        "These **cheat-sheets** are incredibly useful for when getting your hands dirty. Keep them close:\n",
        "\n",
        "- [numpy](https://s3.amazonaws.com/assets.datacamp.com/blog_assets/Numpy_Python_Cheat_Sheet.pdf)\n",
        "- [pandas](https://github.com/pandas-dev/pandas/blob/master/doc/cheatsheet/Pandas_Cheat_Sheet.pdf)\n",
        "- [sklearn](https://s3.amazonaws.com/assets.datacamp.com/blog_assets/Scikit_Learn_Cheat_Sheet_Python.pdf)\n"
      ]
    },
    {
      "cell_type": "markdown",
      "metadata": {
        "id": "8SJ6gZFMQe2b",
        "colab_type": "text"
      },
      "source": [
        "## Dog Breeds Dataset\n",
        "\n",
        "\n",
        "This dataset contains, on each row, a dog. There is some information about the height of a dog, its weight, and some other (maybe redundant?) information.\n",
        "\n",
        "**The goal is to make a model that, given some information about a dog, finds out its species.**\n",
        "\n",
        "**In the same note, we ought to find a model that predicts a dog's longevity.**\n",
        "\n",
        "There are also some **missing values**. Some of the values have very large values, relative to others.\n",
        "\n",
        "We will explore how to clean this and pre-process this dataset. Check out [sklearn's preprocessing docs!](https://scikit-learn.org/stable/modules/preprocessing.html)"
      ]
    },
    {
      "cell_type": "markdown",
      "metadata": {
        "id": "Qni2sNTwR8uX",
        "colab_type": "text"
      },
      "source": [
        "## 1. Imports and reading the data."
      ]
    },
    {
      "cell_type": "code",
      "metadata": {
        "id": "KW3tvb0_MlnJ",
        "colab_type": "code",
        "colab": {}
      },
      "source": [
        "import pandas as pd\n",
        "import numpy as np\n",
        "import matplotlib.pyplot as plt\n",
        "%matplotlib inline\n",
        "\n",
        "import seaborn as sns"
      ],
      "execution_count": 0,
      "outputs": []
    },
    {
      "cell_type": "code",
      "metadata": {
        "id": "kWDa3kisQdJv",
        "colab_type": "code",
        "outputId": "adb3ed3f-b7e5-4fd5-877e-1e503ae99091",
        "colab": {
          "base_uri": "https://localhost:8080/",
          "height": 204
        }
      },
      "source": [
        "# download the data from github\n",
        "!wget https://raw.githubusercontent.com/cosmaadrian/dog-breeds/master/breeds.csv"
      ],
      "execution_count": 0,
      "outputs": [
        {
          "output_type": "stream",
          "text": [
            "--2019-11-14 17:37:24--  https://raw.githubusercontent.com/cosmaadrian/dog-breeds/master/breeds.csv\n",
            "Resolving raw.githubusercontent.com (raw.githubusercontent.com)... 151.101.0.133, 151.101.64.133, 151.101.128.133, ...\n",
            "Connecting to raw.githubusercontent.com (raw.githubusercontent.com)|151.101.0.133|:443... connected.\n",
            "HTTP request sent, awaiting response... 200 OK\n",
            "Length: 65864 (64K) [text/plain]\n",
            "Saving to: ‘breeds.csv.4’\n",
            "\n",
            "\rbreeds.csv.4          0%[                    ]       0  --.-KB/s               \rbreeds.csv.4        100%[===================>]  64.32K  --.-KB/s    in 0.03s   \n",
            "\n",
            "2019-11-14 17:37:24 (2.45 MB/s) - ‘breeds.csv.4’ saved [65864/65864]\n",
            "\n"
          ],
          "name": "stdout"
        }
      ]
    },
    {
      "cell_type": "code",
      "metadata": {
        "id": "lxqgYTH9Mu20",
        "colab_type": "code",
        "outputId": "d5771336-1fe8-4295-cdc8-07347c6a9356",
        "colab": {
          "base_uri": "https://localhost:8080/",
          "height": 204
        }
      },
      "source": [
        "df = pd.read_csv('breeds.csv')\n",
        "df.head()"
      ],
      "execution_count": 0,
      "outputs": [
        {
          "output_type": "execute_result",
          "data": {
            "text/html": [
              "<div>\n",
              "<style scoped>\n",
              "    .dataframe tbody tr th:only-of-type {\n",
              "        vertical-align: middle;\n",
              "    }\n",
              "\n",
              "    .dataframe tbody tr th {\n",
              "        vertical-align: top;\n",
              "    }\n",
              "\n",
              "    .dataframe thead th {\n",
              "        text-align: right;\n",
              "    }\n",
              "</style>\n",
              "<table border=\"1\" class=\"dataframe\">\n",
              "  <thead>\n",
              "    <tr style=\"text-align: right;\">\n",
              "      <th></th>\n",
              "      <th>Breed Name</th>\n",
              "      <th>Weight(g)</th>\n",
              "      <th>Height(cm)</th>\n",
              "      <th>Longevity(yrs)</th>\n",
              "      <th>Energy Level</th>\n",
              "      <th>Attention Needs</th>\n",
              "      <th>Coat Length</th>\n",
              "      <th>Sex</th>\n",
              "      <th>Owner Name</th>\n",
              "    </tr>\n",
              "  </thead>\n",
              "  <tbody>\n",
              "    <tr>\n",
              "      <th>0</th>\n",
              "      <td>Australian Shepherd</td>\n",
              "      <td>21041.6994</td>\n",
              "      <td>NaN</td>\n",
              "      <td>12.9971</td>\n",
              "      <td>high</td>\n",
              "      <td>high</td>\n",
              "      <td>short</td>\n",
              "      <td>male</td>\n",
              "      <td>Rodriguez</td>\n",
              "    </tr>\n",
              "    <tr>\n",
              "      <th>1</th>\n",
              "      <td>Pit Bull</td>\n",
              "      <td>16991.8668</td>\n",
              "      <td>45.1886</td>\n",
              "      <td>12.0789</td>\n",
              "      <td>med</td>\n",
              "      <td>high</td>\n",
              "      <td>short</td>\n",
              "      <td>female</td>\n",
              "      <td>Hughes</td>\n",
              "    </tr>\n",
              "    <tr>\n",
              "      <th>2</th>\n",
              "      <td>Boxer</td>\n",
              "      <td>28429.3520</td>\n",
              "      <td>57.4321</td>\n",
              "      <td>9.7405</td>\n",
              "      <td>high</td>\n",
              "      <td>med</td>\n",
              "      <td>short</td>\n",
              "      <td>female</td>\n",
              "      <td>Jimenez</td>\n",
              "    </tr>\n",
              "    <tr>\n",
              "      <th>3</th>\n",
              "      <td>French Bulldog</td>\n",
              "      <td>11793.2472</td>\n",
              "      <td>NaN</td>\n",
              "      <td>10.6215</td>\n",
              "      <td>med</td>\n",
              "      <td>high</td>\n",
              "      <td>short</td>\n",
              "      <td>male</td>\n",
              "      <td>Ortiz</td>\n",
              "    </tr>\n",
              "    <tr>\n",
              "      <th>4</th>\n",
              "      <td>Australian Shepherd</td>\n",
              "      <td>26746.6297</td>\n",
              "      <td>NaN</td>\n",
              "      <td>12.9608</td>\n",
              "      <td>high</td>\n",
              "      <td>high</td>\n",
              "      <td>med</td>\n",
              "      <td>male</td>\n",
              "      <td>Blake</td>\n",
              "    </tr>\n",
              "  </tbody>\n",
              "</table>\n",
              "</div>"
            ],
            "text/plain": [
              "            Breed Name   Weight(g)  Height(cm)  ...  Coat Length     Sex Owner Name\n",
              "0  Australian Shepherd  21041.6994         NaN  ...        short    male  Rodriguez\n",
              "1             Pit Bull  16991.8668     45.1886  ...        short  female     Hughes\n",
              "2                Boxer  28429.3520     57.4321  ...        short  female    Jimenez\n",
              "3       French Bulldog  11793.2472         NaN  ...        short    male      Ortiz\n",
              "4  Australian Shepherd  26746.6297         NaN  ...          med    male      Blake\n",
              "\n",
              "[5 rows x 9 columns]"
            ]
          },
          "metadata": {
            "tags": []
          },
          "execution_count": 3
        }
      ]
    },
    {
      "cell_type": "markdown",
      "metadata": {
        "id": "eZLSPADHTSSf",
        "colab_type": "text"
      },
      "source": [
        "### Right off the bat, what can we observe here?\n",
        "\n",
        "![](https://celebritydogwatcher.com/wp-content/uploads/2019/04/6c9bf05d7db622a091489726a4c8ed4f.jpeg)"
      ]
    },
    {
      "cell_type": "markdown",
      "metadata": {
        "id": "7PlzhuveTXmS",
        "colab_type": "text"
      },
      "source": [
        "# Coding Challenge #1 - 2 minutes\n",
        "\n",
        "Use pandas to explore this dataset. \n",
        "\n",
        "- df.unique() for checking out unique values\n",
        "\n",
        "- use df.isnull() for checking if there are missing values in the dataframe.\n",
        "\n",
        "- use df.max(), df.min(), df.std(), df.mean() for statistical information on numeric columns."
      ]
    },
    {
      "cell_type": "code",
      "metadata": {
        "id": "MWiDO6XvMydk",
        "colab_type": "code",
        "outputId": "8b5a9bd7-db87-409d-a905-bb76beb5a74b",
        "colab": {
          "base_uri": "https://localhost:8080/",
          "height": 1000
        }
      },
      "source": [
        "# TODO explore the dataset.\n",
        "\n",
        "print(df['Breed Name'].unique())\n",
        "print(df['Attention Needs'].unique())\n",
        "print(df['Energy Level'].unique())\n",
        "print(df['Sex'].unique())\n",
        "print(df['Owner Name'].unique()) # a lot of values!"
      ],
      "execution_count": 0,
      "outputs": [
        {
          "output_type": "stream",
          "text": [
            "['Australian Shepherd' 'Pit Bull' 'Boxer' 'French Bulldog']\n",
            "['high' 'med']\n",
            "['high' 'med' 'low']\n",
            "['male' 'female']\n",
            "['Rodriguez' 'Hughes' 'Jimenez' 'Ortiz' 'Blake' 'Garcia' 'James' 'Harris'\n",
            " 'Graham' 'Davis' 'Sparks' 'Vazquez' 'Hill' 'Martinez' 'Wilson' 'Marks'\n",
            " 'Reilly' 'Barnett' 'Taylor' 'Russo' 'Gibbs' 'Montgomery' 'Davenport'\n",
            " 'Burns' 'Jones' 'Hunt' 'Rush' 'Anderson' 'Cook' 'Wood' 'Estes' 'Glover'\n",
            " 'Thompson' 'Perkins' 'Gomez' 'Sanchez' 'Matthews' 'Guerrero' 'Prince'\n",
            " 'Torres' 'Brown' 'Carroll' 'Watson' 'Carter' 'Smith' 'Fitzgerald'\n",
            " 'Washington' 'Murphy' 'Collins' 'Arnold' 'Conway' 'Webster' 'Kirby'\n",
            " 'Owens' 'Burton' 'Drake' 'Morales' 'Bryant' 'Howell' 'Martin' 'Parker'\n",
            " 'Howard' 'Bailey' 'Lopez' 'Steele' 'Clark' 'Jackson' 'Johnson' 'Stewart'\n",
            " 'Roth' 'Cross' 'Foster' 'Robinson' 'Stevens' 'Armstrong' 'Reyes' 'Solis'\n",
            " 'Avila' 'Morgan' 'Santiago' 'Barker' 'Shea' 'Diaz' 'Wilcox' 'Baxter'\n",
            " 'Allen' 'Scott' 'Fox' 'Walker' 'Abbott' 'Poole' 'Walls' 'Hernandez'\n",
            " 'Bell' 'Edwards' 'Solomon' 'Larson' 'Simmons' 'Crane' 'Moreno' 'Mason'\n",
            " 'Holden' 'Barber' 'West' 'Parks' 'Lucas' 'Kelley' 'Higgins' 'Wright'\n",
            " 'Hammond' 'Davidson' 'Coffey' 'Jenkins' 'Murray' 'Bradley' 'Ross' 'Choi'\n",
            " 'Mitchell' 'Vincent' 'Ferguson' 'Nunez' 'Alexander' 'Gonzalez' 'Harrison'\n",
            " 'Williams' 'Cooper' 'Sutton' 'Anna' 'Phillips' 'Yang' 'Cox' 'Nelson'\n",
            " 'Curtis' 'Vega' 'Evans' 'Valencia' 'Moore' 'Jordan' 'Johns' 'Kent'\n",
            " 'Hinton' 'Sexton' 'Baker' 'Lewis' 'Erickson' 'Cochran' 'York' 'Dunlap'\n",
            " 'Mcgee' 'Trujillo' 'Thomas' 'Ramirez' 'Hawkins' 'Stephens' 'Obrien'\n",
            " 'Graves' 'Hickman' 'Bernard' 'Mathews' 'Osborne' 'Villegas' 'Gutierrez'\n",
            " 'Campos' 'White' 'Holder' 'Fleming' 'Wells' 'Ortega' 'Clay' 'Ashley'\n",
            " 'Meadows' 'Young' 'Miller' 'Callahan' 'Donovan' 'Harrington' 'Gilbert'\n",
            " 'Cruz' 'Vaughn' 'Ray' 'Vargas' 'Bender' 'Mckinney' 'Castro' 'Massey'\n",
            " 'Rogers' 'Kelsey' 'Nguyen' 'Lee' 'Rojas' 'Valenzuela' 'Wagner' 'Good'\n",
            " 'Boone' 'Mcdonald' 'King' 'Richmond' 'Johnston' 'Fry' 'Wilkerson' 'Perez'\n",
            " 'Wallace' 'Myers' 'Galvan' 'Ali' 'Hopkins' 'Fields' 'Duncan' 'Barnes'\n",
            " 'Estrada' 'Herrera' 'Harvey' 'Mccarthy' 'Ayers' 'Tran' 'Hancock' 'Werner'\n",
            " 'Durham' 'Reynolds' 'Stone' 'Wesley' 'Peterson' 'Berry' 'Woods' 'Mcbride'\n",
            " 'Williamson' 'Macdonald' 'Bird' 'Ferrell' 'Gallagher' 'Marshall' 'Franco'\n",
            " 'Burke' 'Reed' 'Flynn' 'Farmer' 'Rosario' 'Benitez' 'Rose' 'Reese'\n",
            " 'Harrell' 'Salazar' 'Vasquez' 'Christensen' 'Flores' 'Robertson' 'Banks'\n",
            " 'Cummings' 'Mendoza' 'Gonzales' 'Chan' 'Karen' 'Zimmerman' 'Wheeler'\n",
            " 'Bray' 'Oconnor' 'Richards' 'Kramer' 'Stevenson' 'Padilla' 'Liu' 'Koch'\n",
            " 'Lambert' 'Long' 'Marquez' 'Grimes' 'Oliver' 'Sellers' 'Bush' 'Schneider'\n",
            " 'Hicks' 'Morrison' 'Patton' 'Nichols' 'Baldwin' 'Mccall' 'Fletcher'\n",
            " 'Bowers' 'Soto' 'Leon' 'Vance' 'Strickland' 'Kane' 'Angela' 'Samantha'\n",
            " 'Booker' 'Morrow' 'Shelton' 'Pitts' 'Khan' 'Munoz' 'Faulkner' 'Calhoun'\n",
            " 'Wang' 'Cooke' 'Hart' 'Blair' 'Byrd' 'Russell' 'Simpson' 'Elliott'\n",
            " 'Murillo' 'Bridges' 'Knox' 'Mcneil' 'Ellison' 'Freeman' 'Hatfield'\n",
            " 'Bryan' 'Conrad' 'Castillo' 'Dominguez' 'Cohen' 'Conner' 'Rivas' 'Morris'\n",
            " 'Mendez' 'Sullivan' 'Cervantes' 'Warren' 'Dunn' 'Melton' 'Cunningham'\n",
            " 'Orozco' 'Paul' 'Patterson' 'Hudson' 'Santos' 'Reeves' 'Fisher' 'Ward'\n",
            " 'Turner' 'Garza' 'Jennings' 'Palmer' 'Oneill' 'Sawyer' 'Bauer' 'Bennett'\n",
            " 'Ochoa' 'Mccoy' 'Parrish' 'Hartman' 'Dixon' 'Gilmore' 'Ellis' 'Hardin'\n",
            " 'Alvarado' 'Walters' 'Carr' 'Pratt' 'Frederick' 'Trevino' 'Yu' 'Hurley'\n",
            " 'Fowler' 'Cortez' 'Mccormick' 'Campbell' 'Heath' 'Pearson' 'Sandoval'\n",
            " 'Carlson' 'Singleton' 'Anita' 'Delgado' 'Atkinson' 'Walter' 'Barry'\n",
            " 'Sheppard' 'Wyatt' 'Wolf' 'Bartlett' 'Lindsey' 'Rangel' 'Guerra' 'Holt'\n",
            " 'Perry' 'Watts' 'Decker' 'Dudley' 'Mathis' 'Monroe' 'Lowe' 'Peters'\n",
            " 'Pollard' 'Kennedy' 'Miles' 'Adams' 'Mccullough' 'Dawson' 'Butler' 'Cole'\n",
            " 'Cobb' 'Chen' 'Fernandez' 'Chandler' 'Danielle' 'Holloway' 'Green'\n",
            " 'Hensley' 'Carrillo' 'Beltran' 'Valentine' 'Floyd' 'Ballard' 'Chapman'\n",
            " 'Cabrera' 'Black' 'Hardy' 'Tucker' 'Hanson' 'Beasley' 'Mack' 'Clayton'\n",
            " 'Roberts' 'Nicholson' 'Escobar' 'Ingram' 'Lynch' 'Griffin' 'Garner'\n",
            " 'Lane' 'Aguilar' 'Downs' 'French' 'Houston' 'Brooks' 'Moran' 'Meyer'\n",
            " 'Kim' 'Hunter' 'Pugh' 'Pennington' 'Arellano' 'Donald' 'Mcdaniel' 'Vang'\n",
            " 'Powers' 'Malone' 'Bass' 'Tyler' 'Molina' 'Skinner' 'Huang' 'Cline'\n",
            " 'Travis' 'Flowers' 'Knight' 'Whitaker' 'Miranda' 'Copeland' 'Kelly'\n",
            " 'Roman' 'Doyle' 'Olsen' 'Webb' 'Glenn' 'Natalie' 'Mercado' 'Spencer'\n",
            " 'Dwayne' 'Salinas' 'Bowman' 'English' 'Greer' 'Courtney' 'Brock'\n",
            " 'Blevins' 'May' 'Middleton' 'Alexis' 'Moyer' 'Irwin' 'Frank' 'Nolan'\n",
            " 'Stafford' 'Lawson' 'Gray' 'Carson' 'Schaefer' 'Horton' 'Welch' 'Schultz'\n",
            " 'Leonard' 'Pineda' 'Parsons' 'Dickson' 'Ruiz' 'Anthony' 'Hines' 'Giles'\n",
            " 'Brewer']\n"
          ],
          "name": "stdout"
        }
      ]
    },
    {
      "cell_type": "code",
      "metadata": {
        "id": "MiIVjGVj5EYd",
        "colab_type": "code",
        "outputId": "38d96d29-0059-4158-e1d3-9b2d83670eb1",
        "colab": {
          "base_uri": "https://localhost:8080/",
          "height": 170
        }
      },
      "source": [
        "df['Height(cm)'].describe()"
      ],
      "execution_count": 0,
      "outputs": [
        {
          "output_type": "execute_result",
          "data": {
            "text/plain": [
              "count    810.000000\n",
              "mean      46.633936\n",
              "std       11.210329\n",
              "min       27.238300\n",
              "25%       30.630550\n",
              "50%       47.515300\n",
              "75%       55.692900\n",
              "max       62.784600\n",
              "Name: Height(cm), dtype: float64"
            ]
          },
          "metadata": {
            "tags": []
          },
          "execution_count": 5
        }
      ]
    },
    {
      "cell_type": "code",
      "metadata": {
        "id": "QHaksnGm5LAe",
        "colab_type": "code",
        "outputId": "1de7a32c-1c19-42e6-990d-6b8b77fe2dff",
        "colab": {
          "base_uri": "https://localhost:8080/",
          "height": 170
        }
      },
      "source": [
        "df['Weight(g)'].describe()"
      ],
      "execution_count": 0,
      "outputs": [
        {
          "output_type": "execute_result",
          "data": {
            "text/plain": [
              "count     1000.000000\n",
              "mean     22453.417533\n",
              "std       7769.730240\n",
              "min       3323.990600\n",
              "25%      12857.108700\n",
              "50%      23489.698050\n",
              "75%      28171.614100\n",
              "max      45555.975600\n",
              "Name: Weight(g), dtype: float64"
            ]
          },
          "metadata": {
            "tags": []
          },
          "execution_count": 6
        }
      ]
    },
    {
      "cell_type": "code",
      "metadata": {
        "id": "ebj8-fIh5TLs",
        "colab_type": "code",
        "outputId": "f2c3a6c8-9bad-4269-ecca-b8832c6c50c6",
        "colab": {
          "base_uri": "https://localhost:8080/",
          "height": 170
        }
      },
      "source": [
        "df['Longevity(yrs)'].describe()"
      ],
      "execution_count": 0,
      "outputs": [
        {
          "output_type": "execute_result",
          "data": {
            "text/plain": [
              "count    1000.000000\n",
              "mean       11.060328\n",
              "std         1.657634\n",
              "min         7.688500\n",
              "25%         9.617925\n",
              "50%        11.254350\n",
              "75%        12.523400\n",
              "max        14.510400\n",
              "Name: Longevity(yrs), dtype: float64"
            ]
          },
          "metadata": {
            "tags": []
          },
          "execution_count": 7
        }
      ]
    },
    {
      "cell_type": "markdown",
      "metadata": {
        "id": "DO8VHi4NVFaP",
        "colab_type": "text"
      },
      "source": [
        "## 2. Categorical Variables and Plotting\n",
        "\n",
        "Statistical information like mean and standard deviation are informative, but a more visual representation of the dataset could be more useful in discovering our data.\n",
        "\n",
        "In general, EDA relies heavily in visualizations and **asking questions** based on those visualizations.\n",
        "\n",
        "Let's try to plot something from our data."
      ]
    },
    {
      "cell_type": "markdown",
      "metadata": {
        "id": "i9eSVOhhVmeA",
        "colab_type": "text"
      },
      "source": [
        "We can see that some columns are categorical - which is to say that their values are not continous, but are in a set of values. And there are strings. We should encode these values, to be compatible with our algorithms."
      ]
    },
    {
      "cell_type": "code",
      "metadata": {
        "id": "TCDUh0_sViZE",
        "colab_type": "code",
        "colab": {}
      },
      "source": [
        "# Using pandas, we can assign numbers to each of our categories.\n",
        "df['Breed Name'] = df['Breed Name'].astype('category').cat.codes\n",
        "df['Energy Level'] = df['Energy Level'].astype('category').cat.codes\n",
        "df['Attention Needs'] = df['Attention Needs'].astype('category').cat.codes\n",
        "df['Coat Length'] = df['Coat Length'].astype('category').cat.codes\n",
        "df['Sex'] = df['Sex'].astype('category').cat.codes\n",
        "df['Owner Name'] = df['Owner Name'].astype('category').cat.codes"
      ],
      "execution_count": 0,
      "outputs": []
    },
    {
      "cell_type": "code",
      "metadata": {
        "id": "fJqT_dOxmA1m",
        "colab_type": "code",
        "outputId": "7f858727-0634-47e9-b149-818fb0ff5e19",
        "colab": {
          "base_uri": "https://localhost:8080/",
          "height": 204
        }
      },
      "source": [
        "df.head()"
      ],
      "execution_count": 0,
      "outputs": [
        {
          "output_type": "execute_result",
          "data": {
            "text/html": [
              "<div>\n",
              "<style scoped>\n",
              "    .dataframe tbody tr th:only-of-type {\n",
              "        vertical-align: middle;\n",
              "    }\n",
              "\n",
              "    .dataframe tbody tr th {\n",
              "        vertical-align: top;\n",
              "    }\n",
              "\n",
              "    .dataframe thead th {\n",
              "        text-align: right;\n",
              "    }\n",
              "</style>\n",
              "<table border=\"1\" class=\"dataframe\">\n",
              "  <thead>\n",
              "    <tr style=\"text-align: right;\">\n",
              "      <th></th>\n",
              "      <th>Breed Name</th>\n",
              "      <th>Weight(g)</th>\n",
              "      <th>Height(cm)</th>\n",
              "      <th>Longevity(yrs)</th>\n",
              "      <th>Energy Level</th>\n",
              "      <th>Attention Needs</th>\n",
              "      <th>Coat Length</th>\n",
              "      <th>Sex</th>\n",
              "      <th>Owner Name</th>\n",
              "    </tr>\n",
              "  </thead>\n",
              "  <tbody>\n",
              "    <tr>\n",
              "      <th>0</th>\n",
              "      <td>0</td>\n",
              "      <td>21041.6994</td>\n",
              "      <td>NaN</td>\n",
              "      <td>12.9971</td>\n",
              "      <td>0</td>\n",
              "      <td>0</td>\n",
              "      <td>2</td>\n",
              "      <td>1</td>\n",
              "      <td>384</td>\n",
              "    </tr>\n",
              "    <tr>\n",
              "      <th>1</th>\n",
              "      <td>3</td>\n",
              "      <td>16991.8668</td>\n",
              "      <td>45.1886</td>\n",
              "      <td>12.0789</td>\n",
              "      <td>2</td>\n",
              "      <td>0</td>\n",
              "      <td>2</td>\n",
              "      <td>0</td>\n",
              "      <td>227</td>\n",
              "    </tr>\n",
              "    <tr>\n",
              "      <th>2</th>\n",
              "      <td>1</td>\n",
              "      <td>28429.3520</td>\n",
              "      <td>57.4321</td>\n",
              "      <td>9.7405</td>\n",
              "      <td>0</td>\n",
              "      <td>1</td>\n",
              "      <td>2</td>\n",
              "      <td>0</td>\n",
              "      <td>237</td>\n",
              "    </tr>\n",
              "    <tr>\n",
              "      <th>3</th>\n",
              "      <td>2</td>\n",
              "      <td>11793.2472</td>\n",
              "      <td>NaN</td>\n",
              "      <td>10.6215</td>\n",
              "      <td>2</td>\n",
              "      <td>0</td>\n",
              "      <td>2</td>\n",
              "      <td>1</td>\n",
              "      <td>341</td>\n",
              "    </tr>\n",
              "    <tr>\n",
              "      <th>4</th>\n",
              "      <td>0</td>\n",
              "      <td>26746.6297</td>\n",
              "      <td>NaN</td>\n",
              "      <td>12.9608</td>\n",
              "      <td>0</td>\n",
              "      <td>0</td>\n",
              "      <td>1</td>\n",
              "      <td>1</td>\n",
              "      <td>45</td>\n",
              "    </tr>\n",
              "  </tbody>\n",
              "</table>\n",
              "</div>"
            ],
            "text/plain": [
              "   Breed Name   Weight(g)  Height(cm)  ...  Coat Length  Sex  Owner Name\n",
              "0           0  21041.6994         NaN  ...            2    1         384\n",
              "1           3  16991.8668     45.1886  ...            2    0         227\n",
              "2           1  28429.3520     57.4321  ...            2    0         237\n",
              "3           2  11793.2472         NaN  ...            2    1         341\n",
              "4           0  26746.6297         NaN  ...            1    1          45\n",
              "\n",
              "[5 rows x 9 columns]"
            ]
          },
          "metadata": {
            "tags": []
          },
          "execution_count": 9
        }
      ]
    },
    {
      "cell_type": "code",
      "metadata": {
        "id": "DBszN4r9XP0i",
        "colab_type": "code",
        "outputId": "aef37461-0c11-4b3b-d3a0-0a43f28f2e97",
        "colab": {
          "base_uri": "https://localhost:8080/",
          "height": 386
        }
      },
      "source": [
        "# sns.lmplot(x='Height(cm)', y='Longevity(yrs)', hue='Breed Name', data=df, fit_reg=False)\n",
        "sns.lmplot(x='Height(cm)', y='Weight(g)', hue='Breed Name', data=df, fit_reg=False)"
      ],
      "execution_count": 0,
      "outputs": [
        {
          "output_type": "execute_result",
          "data": {
            "text/plain": [
              "<seaborn.axisgrid.FacetGrid at 0x7f1c9a6dfc88>"
            ]
          },
          "metadata": {
            "tags": []
          },
          "execution_count": 10
        },
        {
          "output_type": "display_data",
          "data": {
            "image/png": "[encoded data removed]",
            "text/plain": [
              "<Figure size 430.125x360 with 1 Axes>"
            ]
          },
          "metadata": {
            "tags": []
          }
        }
      ]
    },
    {
      "cell_type": "code",
      "metadata": {
        "id": "kSU-R8lWmUcJ",
        "colab_type": "code",
        "outputId": "6802ea62-2214-416d-b11f-406a2712f52e",
        "colab": {
          "base_uri": "https://localhost:8080/",
          "height": 296
        }
      },
      "source": [
        "sns.distplot(df[df['Breed Name'] == 0]['Sex'], hist=False)\n",
        "sns.distplot(df[df['Breed Name'] == 1]['Sex'], hist=False)\n",
        "sns.distplot(df[df['Breed Name'] == 2]['Sex'], hist=False)\n",
        "sns.distplot(df[df['Breed Name'] == 3]['Sex'], hist=False)"
      ],
      "execution_count": 0,
      "outputs": [
        {
          "output_type": "execute_result",
          "data": {
            "text/plain": [
              "<matplotlib.axes._subplots.AxesSubplot at 0x7f1c985f0f60>"
            ]
          },
          "metadata": {
            "tags": []
          },
          "execution_count": 11
        },
        {
          "output_type": "display_data",
          "data": {
            "image/png": "[encoded data removed]",
            "text/plain": [
              "<Figure size 432x288 with 1 Axes>"
            ]
          },
          "metadata": {
            "tags": []
          }
        }
      ]
    },
    {
      "cell_type": "code",
      "metadata": {
        "id": "40RBCZ-LntzY",
        "colab_type": "code",
        "outputId": "7dae6157-bbad-42e7-c435-24150f7981ec",
        "colab": {
          "base_uri": "https://localhost:8080/",
          "height": 296
        }
      },
      "source": [
        "# Let's see for a class if there is some discernable difference in Weight for a female dog and a male dog.\n",
        "\n",
        "sns.distplot(df[(df['Sex'] == 0) & (df['Breed Name'] == 0)]['Weight(g)'], hist=False)\n",
        "sns.distplot(df[(df['Sex'] == 1) & (df['Breed Name'] == 0)]['Weight(g)'], hist=False)"
      ],
      "execution_count": 0,
      "outputs": [
        {
          "output_type": "execute_result",
          "data": {
            "text/plain": [
              "<matplotlib.axes._subplots.AxesSubplot at 0x7f1c98156f28>"
            ]
          },
          "metadata": {
            "tags": []
          },
          "execution_count": 12
        },
        {
          "output_type": "display_data",
          "data": {
            "image/png": "[encoded data removed]",
            "text/plain": [
              "<Figure size 432x288 with 1 Axes>"
            ]
          },
          "metadata": {
            "tags": []
          }
        }
      ]
    },
    {
      "cell_type": "markdown",
      "metadata": {
        "id": "n-0nwYIpopuW",
        "colab_type": "text"
      },
      "source": [
        "Looks like the *Sex* attribute is useless for our purposes. Let's get rid of it!"
      ]
    },
    {
      "cell_type": "code",
      "metadata": {
        "id": "oL-yKlDWowix",
        "colab_type": "code",
        "outputId": "abbc8b70-3609-4c7b-97c5-ca4ba29f988a",
        "colab": {
          "base_uri": "https://localhost:8080/",
          "height": 204
        }
      },
      "source": [
        "df = df.drop(['Sex'], axis=1)\n",
        "df.head()"
      ],
      "execution_count": 0,
      "outputs": [
        {
          "output_type": "execute_result",
          "data": {
            "text/html": [
              "<div>\n",
              "<style scoped>\n",
              "    .dataframe tbody tr th:only-of-type {\n",
              "        vertical-align: middle;\n",
              "    }\n",
              "\n",
              "    .dataframe tbody tr th {\n",
              "        vertical-align: top;\n",
              "    }\n",
              "\n",
              "    .dataframe thead th {\n",
              "        text-align: right;\n",
              "    }\n",
              "</style>\n",
              "<table border=\"1\" class=\"dataframe\">\n",
              "  <thead>\n",
              "    <tr style=\"text-align: right;\">\n",
              "      <th></th>\n",
              "      <th>Breed Name</th>\n",
              "      <th>Weight(g)</th>\n",
              "      <th>Height(cm)</th>\n",
              "      <th>Longevity(yrs)</th>\n",
              "      <th>Energy Level</th>\n",
              "      <th>Attention Needs</th>\n",
              "      <th>Coat Length</th>\n",
              "      <th>Owner Name</th>\n",
              "    </tr>\n",
              "  </thead>\n",
              "  <tbody>\n",
              "    <tr>\n",
              "      <th>0</th>\n",
              "      <td>0</td>\n",
              "      <td>21041.6994</td>\n",
              "      <td>NaN</td>\n",
              "      <td>12.9971</td>\n",
              "      <td>0</td>\n",
              "      <td>0</td>\n",
              "      <td>2</td>\n",
              "      <td>384</td>\n",
              "    </tr>\n",
              "    <tr>\n",
              "      <th>1</th>\n",
              "      <td>3</td>\n",
              "      <td>16991.8668</td>\n",
              "      <td>45.1886</td>\n",
              "      <td>12.0789</td>\n",
              "      <td>2</td>\n",
              "      <td>0</td>\n",
              "      <td>2</td>\n",
              "      <td>227</td>\n",
              "    </tr>\n",
              "    <tr>\n",
              "      <th>2</th>\n",
              "      <td>1</td>\n",
              "      <td>28429.3520</td>\n",
              "      <td>57.4321</td>\n",
              "      <td>9.7405</td>\n",
              "      <td>0</td>\n",
              "      <td>1</td>\n",
              "      <td>2</td>\n",
              "      <td>237</td>\n",
              "    </tr>\n",
              "    <tr>\n",
              "      <th>3</th>\n",
              "      <td>2</td>\n",
              "      <td>11793.2472</td>\n",
              "      <td>NaN</td>\n",
              "      <td>10.6215</td>\n",
              "      <td>2</td>\n",
              "      <td>0</td>\n",
              "      <td>2</td>\n",
              "      <td>341</td>\n",
              "    </tr>\n",
              "    <tr>\n",
              "      <th>4</th>\n",
              "      <td>0</td>\n",
              "      <td>26746.6297</td>\n",
              "      <td>NaN</td>\n",
              "      <td>12.9608</td>\n",
              "      <td>0</td>\n",
              "      <td>0</td>\n",
              "      <td>1</td>\n",
              "      <td>45</td>\n",
              "    </tr>\n",
              "  </tbody>\n",
              "</table>\n",
              "</div>"
            ],
            "text/plain": [
              "   Breed Name   Weight(g)  Height(cm)  ...  Attention Needs  Coat Length  Owner Name\n",
              "0           0  21041.6994         NaN  ...                0            2         384\n",
              "1           3  16991.8668     45.1886  ...                0            2         227\n",
              "2           1  28429.3520     57.4321  ...                1            2         237\n",
              "3           2  11793.2472         NaN  ...                0            2         341\n",
              "4           0  26746.6297         NaN  ...                0            1          45\n",
              "\n",
              "[5 rows x 8 columns]"
            ]
          },
          "metadata": {
            "tags": []
          },
          "execution_count": 13
        }
      ]
    },
    {
      "cell_type": "code",
      "metadata": {
        "id": "avoKq_tio4qk",
        "colab_type": "code",
        "outputId": "ee5f814b-5cb6-43da-ec79-ad26f602b128",
        "colab": {
          "base_uri": "https://localhost:8080/",
          "height": 204
        }
      },
      "source": [
        "# What is up with Owner Name? Can that help us in a way?\n",
        "\n",
        "# TODO: Decide what to do with the 'Owner Name'\n",
        "# drop 'Owner Name', no use to us\n",
        "df = df.drop(['Owner Name'], axis=1)\n",
        "df.head()"
      ],
      "execution_count": 0,
      "outputs": [
        {
          "output_type": "execute_result",
          "data": {
            "text/html": [
              "<div>\n",
              "<style scoped>\n",
              "    .dataframe tbody tr th:only-of-type {\n",
              "        vertical-align: middle;\n",
              "    }\n",
              "\n",
              "    .dataframe tbody tr th {\n",
              "        vertical-align: top;\n",
              "    }\n",
              "\n",
              "    .dataframe thead th {\n",
              "        text-align: right;\n",
              "    }\n",
              "</style>\n",
              "<table border=\"1\" class=\"dataframe\">\n",
              "  <thead>\n",
              "    <tr style=\"text-align: right;\">\n",
              "      <th></th>\n",
              "      <th>Breed Name</th>\n",
              "      <th>Weight(g)</th>\n",
              "      <th>Height(cm)</th>\n",
              "      <th>Longevity(yrs)</th>\n",
              "      <th>Energy Level</th>\n",
              "      <th>Attention Needs</th>\n",
              "      <th>Coat Length</th>\n",
              "    </tr>\n",
              "  </thead>\n",
              "  <tbody>\n",
              "    <tr>\n",
              "      <th>0</th>\n",
              "      <td>0</td>\n",
              "      <td>21041.6994</td>\n",
              "      <td>NaN</td>\n",
              "      <td>12.9971</td>\n",
              "      <td>0</td>\n",
              "      <td>0</td>\n",
              "      <td>2</td>\n",
              "    </tr>\n",
              "    <tr>\n",
              "      <th>1</th>\n",
              "      <td>3</td>\n",
              "      <td>16991.8668</td>\n",
              "      <td>45.1886</td>\n",
              "      <td>12.0789</td>\n",
              "      <td>2</td>\n",
              "      <td>0</td>\n",
              "      <td>2</td>\n",
              "    </tr>\n",
              "    <tr>\n",
              "      <th>2</th>\n",
              "      <td>1</td>\n",
              "      <td>28429.3520</td>\n",
              "      <td>57.4321</td>\n",
              "      <td>9.7405</td>\n",
              "      <td>0</td>\n",
              "      <td>1</td>\n",
              "      <td>2</td>\n",
              "    </tr>\n",
              "    <tr>\n",
              "      <th>3</th>\n",
              "      <td>2</td>\n",
              "      <td>11793.2472</td>\n",
              "      <td>NaN</td>\n",
              "      <td>10.6215</td>\n",
              "      <td>2</td>\n",
              "      <td>0</td>\n",
              "      <td>2</td>\n",
              "    </tr>\n",
              "    <tr>\n",
              "      <th>4</th>\n",
              "      <td>0</td>\n",
              "      <td>26746.6297</td>\n",
              "      <td>NaN</td>\n",
              "      <td>12.9608</td>\n",
              "      <td>0</td>\n",
              "      <td>0</td>\n",
              "      <td>1</td>\n",
              "    </tr>\n",
              "  </tbody>\n",
              "</table>\n",
              "</div>"
            ],
            "text/plain": [
              "   Breed Name   Weight(g)  ...  Attention Needs  Coat Length\n",
              "0           0  21041.6994  ...                0            2\n",
              "1           3  16991.8668  ...                0            2\n",
              "2           1  28429.3520  ...                1            2\n",
              "3           2  11793.2472  ...                0            2\n",
              "4           0  26746.6297  ...                0            1\n",
              "\n",
              "[5 rows x 7 columns]"
            ]
          },
          "metadata": {
            "tags": []
          },
          "execution_count": 14
        }
      ]
    },
    {
      "cell_type": "markdown",
      "metadata": {
        "id": "ldVDEzgdXN9y",
        "colab_type": "text"
      },
      "source": [
        "## 3. Missing values\n",
        "\n",
        "We can see that the **height** column has some values that are missing. \n",
        "\n",
        "Missing values are a problem. There are multiple techniques that can help us fix this."
      ]
    },
    {
      "cell_type": "code",
      "metadata": {
        "id": "q-OO48UpXiEl",
        "colab_type": "code",
        "outputId": "1eca3577-5680-40cc-81d3-ea8912054f58",
        "colab": {
          "base_uri": "https://localhost:8080/",
          "height": 299
        }
      },
      "source": [
        "print(df['Height(cm)'].isnull().count())\n",
        "sns.scatterplot(range(len(df.index)), df['Height(cm)'])"
      ],
      "execution_count": 0,
      "outputs": [
        {
          "output_type": "stream",
          "text": [
            "1000\n"
          ],
          "name": "stdout"
        },
        {
          "output_type": "execute_result",
          "data": {
            "text/plain": [
              "<matplotlib.axes._subplots.AxesSubplot at 0x7f1c980f45c0>"
            ]
          },
          "metadata": {
            "tags": []
          },
          "execution_count": 15
        },
        {
          "output_type": "display_data",
          "data": {
            "image/png": "[encoded data removed]",
            "text/plain": [
              "<Figure size 432x288 with 1 Axes>"
            ]
          },
          "metadata": {
            "tags": []
          }
        }
      ]
    },
    {
      "cell_type": "markdown",
      "metadata": {
        "id": "kr0m_sy7tQet",
        "colab_type": "text"
      },
      "source": [
        "### Coding Challenge #2 -  5 minutes\n",
        "\n",
        "Use `sklearn.impute.SimpleImputer` to fill in the blank values for Height(cm)."
      ]
    },
    {
      "cell_type": "code",
      "metadata": {
        "id": "4Bz3jJjQtuME",
        "colab_type": "code",
        "outputId": "22a1fcad-bacf-470d-a165-8130688313fe",
        "colab": {
          "base_uri": "https://localhost:8080/",
          "height": 282
        }
      },
      "source": [
        "# TODO check out the documentation for SimpleImputer \n",
        "# https://scikit-learn.org/stable/modules/generated/sklearn.impute.SimpleImputer.html\n",
        "\n",
        "# Try out different strategies for imputing values and plot the results.\n",
        "# DON'T use the Breed Name for imputing class-specific Heights. Remember that we should later predict this column using our model.\n",
        "from sklearn.impute import SimpleImputer\n",
        "\n",
        "# We mentioned that we should first split the DataFrame into train and test for a more rigurous testing\n",
        "from sklearn.model_selection import train_test_split\n",
        "\n",
        "df_train, df_test = train_test_split(df.copy())\n",
        "\n",
        "imputer = SimpleImputer(strategy='median').fit(df_train['Height(cm)'].values.reshape(-1, 1))\n",
        "\n",
        "df_train['Height Imputed'] = imputer.transform(df_train['Height(cm)'].values.reshape(-1, 1))\n",
        "df_test['Height Imputed'] = imputer.transform(df_test['Height(cm)'].values.reshape(-1, 1))\n",
        "\n",
        "sns.scatterplot(range(len(df_train.index)), df_train['Height Imputed'])"
      ],
      "execution_count": 0,
      "outputs": [
        {
          "output_type": "execute_result",
          "data": {
            "text/plain": [
              "<matplotlib.axes._subplots.AxesSubplot at 0x7f1c96083fd0>"
            ]
          },
          "metadata": {
            "tags": []
          },
          "execution_count": 16
        },
        {
          "output_type": "display_data",
          "data": {
            "image/png": "[encoded data removed]",
            "text/plain": [
              "<Figure size 432x288 with 1 Axes>"
            ]
          },
          "metadata": {
            "tags": []
          }
        }
      ]
    },
    {
      "cell_type": "code",
      "metadata": {
        "id": "6D4TFGbQ6zYh",
        "colab_type": "code",
        "outputId": "19534cc1-c5eb-4a1a-efd1-efa551a3ddbf",
        "colab": {
          "base_uri": "https://localhost:8080/",
          "height": 306
        }
      },
      "source": [
        "# an even better method is to train a simple LinearRegression to predict the missing values based on other attributes\n",
        "# we will use Weight to predict Height\n",
        "\n",
        "from sklearn.linear_model import LinearRegression\n",
        "\n",
        "df_train, df_test = train_test_split(df.copy())\n",
        "\n",
        "imputer_X = df_train[df_train['Height(cm)'].notnull()]['Weight(g)'].values.reshape(-1, 1)\n",
        "imputer_y = df_train[df_train['Height(cm)'].notnull()]['Height(cm)'].values.reshape(-1, 1)\n",
        "\n",
        "linear_imputer = LinearRegression()\n",
        "linear_imputer.fit(imputer_X, imputer_y)\n",
        "\n",
        "print(linear_imputer.score(imputer_X, imputer_y))\n",
        "\n",
        "df_train.loc[df_train['Height(cm)'].isnull(), 'Height(cm)'] = linear_imputer.predict(df_train[df_train['Height(cm)'].isnull()]['Weight(g)'].values.reshape(-1, 1))\n",
        "df_test.loc[df_test['Height(cm)'].isnull(), 'Height(cm)'] = linear_imputer.predict(df_test[df_test['Height(cm)'].isnull()]['Weight(g)'].values.reshape(-1, 1))\n",
        "\n",
        "print(df_test.isnull().sum())\n",
        "print(df_train.isnull().sum())\n",
        "\n",
        "# we will use df_train and df_test from now on"
      ],
      "execution_count": 0,
      "outputs": [
        {
          "output_type": "stream",
          "text": [
            "0.637380757168564\n",
            "Breed Name         0\n",
            "Weight(g)          0\n",
            "Height(cm)         0\n",
            "Longevity(yrs)     0\n",
            "Energy Level       0\n",
            "Attention Needs    0\n",
            "Coat Length        0\n",
            "dtype: int64\n",
            "Breed Name         0\n",
            "Weight(g)          0\n",
            "Height(cm)         0\n",
            "Longevity(yrs)     0\n",
            "Energy Level       0\n",
            "Attention Needs    0\n",
            "Coat Length        0\n",
            "dtype: int64\n"
          ],
          "name": "stdout"
        }
      ]
    },
    {
      "cell_type": "code",
      "metadata": {
        "id": "Nfocrwyx9bIo",
        "colab_type": "code",
        "outputId": "83a6ef5b-653d-42e9-b444-c396c9348d2b",
        "colab": {
          "base_uri": "https://localhost:8080/",
          "height": 204
        }
      },
      "source": [
        "df_train.head()"
      ],
      "execution_count": 0,
      "outputs": [
        {
          "output_type": "execute_result",
          "data": {
            "text/html": [
              "<div>\n",
              "<style scoped>\n",
              "    .dataframe tbody tr th:only-of-type {\n",
              "        vertical-align: middle;\n",
              "    }\n",
              "\n",
              "    .dataframe tbody tr th {\n",
              "        vertical-align: top;\n",
              "    }\n",
              "\n",
              "    .dataframe thead th {\n",
              "        text-align: right;\n",
              "    }\n",
              "</style>\n",
              "<table border=\"1\" class=\"dataframe\">\n",
              "  <thead>\n",
              "    <tr style=\"text-align: right;\">\n",
              "      <th></th>\n",
              "      <th>Breed Name</th>\n",
              "      <th>Weight(g)</th>\n",
              "      <th>Height(cm)</th>\n",
              "      <th>Longevity(yrs)</th>\n",
              "      <th>Energy Level</th>\n",
              "      <th>Attention Needs</th>\n",
              "      <th>Coat Length</th>\n",
              "    </tr>\n",
              "  </thead>\n",
              "  <tbody>\n",
              "    <tr>\n",
              "      <th>91</th>\n",
              "      <td>0</td>\n",
              "      <td>28080.5900</td>\n",
              "      <td>53.1303</td>\n",
              "      <td>13.0582</td>\n",
              "      <td>0</td>\n",
              "      <td>0</td>\n",
              "      <td>1</td>\n",
              "    </tr>\n",
              "    <tr>\n",
              "      <th>348</th>\n",
              "      <td>1</td>\n",
              "      <td>25725.9709</td>\n",
              "      <td>61.5010</td>\n",
              "      <td>8.6452</td>\n",
              "      <td>0</td>\n",
              "      <td>1</td>\n",
              "      <td>2</td>\n",
              "    </tr>\n",
              "    <tr>\n",
              "      <th>311</th>\n",
              "      <td>3</td>\n",
              "      <td>23794.9414</td>\n",
              "      <td>45.4077</td>\n",
              "      <td>11.6109</td>\n",
              "      <td>2</td>\n",
              "      <td>0</td>\n",
              "      <td>1</td>\n",
              "    </tr>\n",
              "    <tr>\n",
              "      <th>727</th>\n",
              "      <td>0</td>\n",
              "      <td>23824.6145</td>\n",
              "      <td>51.0090</td>\n",
              "      <td>12.9008</td>\n",
              "      <td>0</td>\n",
              "      <td>0</td>\n",
              "      <td>1</td>\n",
              "    </tr>\n",
              "    <tr>\n",
              "      <th>176</th>\n",
              "      <td>2</td>\n",
              "      <td>12586.7189</td>\n",
              "      <td>29.7572</td>\n",
              "      <td>9.0285</td>\n",
              "      <td>2</td>\n",
              "      <td>0</td>\n",
              "      <td>2</td>\n",
              "    </tr>\n",
              "  </tbody>\n",
              "</table>\n",
              "</div>"
            ],
            "text/plain": [
              "     Breed Name   Weight(g)  ...  Attention Needs  Coat Length\n",
              "91            0  28080.5900  ...                0            1\n",
              "348           1  25725.9709  ...                1            2\n",
              "311           3  23794.9414  ...                0            1\n",
              "727           0  23824.6145  ...                0            1\n",
              "176           2  12586.7189  ...                0            2\n",
              "\n",
              "[5 rows x 7 columns]"
            ]
          },
          "metadata": {
            "tags": []
          },
          "execution_count": 18
        }
      ]
    },
    {
      "cell_type": "markdown",
      "metadata": {
        "id": "FBBKSMKvX3xi",
        "colab_type": "text"
      },
      "source": [
        "## 3. Normalization\n",
        "We see that that the *Weight* and *Height* columns have very large values. We should normalize these values. The goal of normalization is to change the values of numeric columns in the dataset to a common scale, without distorting differences in the ranges of values. "
      ]
    },
    {
      "cell_type": "markdown",
      "metadata": {
        "id": "4hj1c0Zjuo3X",
        "colab_type": "text"
      },
      "source": [
        "## Coding Challenge #3 - 5 minutes"
      ]
    },
    {
      "cell_type": "code",
      "metadata": {
        "id": "--gt-j-Auske",
        "colab_type": "code",
        "outputId": "f86d0661-376b-419a-9c4b-f52100703bae",
        "colab": {
          "base_uri": "https://localhost:8080/",
          "height": 170
        }
      },
      "source": [
        "# Use sklearn.preprocessing.StandardScaler and sklearn.preprocessing.MinMaxScaler\n",
        "# to normalize the values in the Weight and Height columns.\n",
        "\n",
        "from sklearn.preprocessing import StandardScaler, MinMaxScaler\n",
        "\n",
        "# we'll use just StandardScaler here\n",
        "standard_scaler = StandardScaler()\n",
        "standard_scaler.fit(df_train['Height(cm)'].values.reshape(-1, 1))\n",
        "\n",
        "df_train['Height Normalized'] = standard_scaler.transform(df_train['Height(cm)'].values.reshape(-1, 1))\n",
        "df_test['Height Normalized'] = standard_scaler.transform(df_test['Height(cm)'].values.reshape(-1, 1))\n",
        "\n",
        "standard_scaler = StandardScaler()\n",
        "standard_scaler.fit(df_train['Weight(g)'].values.reshape(-1, 1))\n",
        "\n",
        "\n",
        "df_train['Weight Normalized'] = standard_scaler.transform(df_train['Weight(g)'].values.reshape(-1, 1))\n",
        "df_test['Weight Normalized'] = standard_scaler.transform(df_test['Weight(g)'].values.reshape(-1, 1))\n",
        "\n",
        "# your code here\n",
        "\n",
        "df_train['Weight Normalized'].describe()"
      ],
      "execution_count": 0,
      "outputs": [
        {
          "output_type": "execute_result",
          "data": {
            "text/plain": [
              "count    7.500000e+02\n",
              "mean     1.258253e-17\n",
              "std      1.000667e+00\n",
              "min     -1.729005e+00\n",
              "25%     -1.223656e+00\n",
              "50%      1.314593e-01\n",
              "75%      7.542872e-01\n",
              "max      2.986460e+00\n",
              "Name: Weight Normalized, dtype: float64"
            ]
          },
          "metadata": {
            "tags": []
          },
          "execution_count": 19
        }
      ]
    },
    {
      "cell_type": "markdown",
      "metadata": {
        "id": "pYDswUVQZPse",
        "colab_type": "text"
      },
      "source": [
        "## 4. Encoding categorical features.\n",
        "\n",
        "Categorical numbers like (1, 2, 3, 4) imply some sort of ordering of the values. Maybe that is true like in the case of olympic prizes. Most of the time we don't want that implicit ordering. \n",
        "\n",
        "For that we will use **one-hot encoding.**\n"
      ]
    },
    {
      "cell_type": "code",
      "metadata": {
        "id": "jqWDOrrmaerI",
        "colab_type": "code",
        "outputId": "d76b13dd-5f15-4628-ead9-ee4d9c4d0406",
        "colab": {
          "base_uri": "https://localhost:8080/",
          "height": 204
        }
      },
      "source": [
        "df_train = pd.concat([\n",
        "         df_train,\n",
        "         pd.get_dummies(df_train['Coat Length'], prefix='Coat Length'),\n",
        "         pd.get_dummies(df_train['Energy Level'], prefix='Energy Level'),\n",
        "         pd.get_dummies(df_train['Attention Needs'], prefix='Attention Needs'),\n",
        "], axis=1).drop([\n",
        "         'Coat Length',\n",
        "         'Energy Level', \n",
        "         'Attention Needs',\n",
        "         'Weight(g)', # dropping these, they are useless now because we normalized them\n",
        "         'Height(cm)',\n",
        "], axis=1)\n",
        "\n",
        "df_train.head()"
      ],
      "execution_count": 0,
      "outputs": [
        {
          "output_type": "execute_result",
          "data": {
            "text/html": [
              "<div>\n",
              "<style scoped>\n",
              "    .dataframe tbody tr th:only-of-type {\n",
              "        vertical-align: middle;\n",
              "    }\n",
              "\n",
              "    .dataframe tbody tr th {\n",
              "        vertical-align: top;\n",
              "    }\n",
              "\n",
              "    .dataframe thead th {\n",
              "        text-align: right;\n",
              "    }\n",
              "</style>\n",
              "<table border=\"1\" class=\"dataframe\">\n",
              "  <thead>\n",
              "    <tr style=\"text-align: right;\">\n",
              "      <th></th>\n",
              "      <th>Breed Name</th>\n",
              "      <th>Longevity(yrs)</th>\n",
              "      <th>Height Normalized</th>\n",
              "      <th>Weight Normalized</th>\n",
              "      <th>Coat Length_0</th>\n",
              "      <th>Coat Length_1</th>\n",
              "      <th>Coat Length_2</th>\n",
              "      <th>Energy Level_0</th>\n",
              "      <th>Energy Level_1</th>\n",
              "      <th>Energy Level_2</th>\n",
              "      <th>Attention Needs_0</th>\n",
              "      <th>Attention Needs_1</th>\n",
              "    </tr>\n",
              "  </thead>\n",
              "  <tbody>\n",
              "    <tr>\n",
              "      <th>91</th>\n",
              "      <td>0</td>\n",
              "      <td>13.0582</td>\n",
              "      <td>0.614549</td>\n",
              "      <td>0.744530</td>\n",
              "      <td>0</td>\n",
              "      <td>1</td>\n",
              "      <td>0</td>\n",
              "      <td>1</td>\n",
              "      <td>0</td>\n",
              "      <td>0</td>\n",
              "      <td>1</td>\n",
              "      <td>0</td>\n",
              "    </tr>\n",
              "    <tr>\n",
              "      <th>348</th>\n",
              "      <td>1</td>\n",
              "      <td>8.6452</td>\n",
              "      <td>1.377896</td>\n",
              "      <td>0.442454</td>\n",
              "      <td>0</td>\n",
              "      <td>0</td>\n",
              "      <td>1</td>\n",
              "      <td>1</td>\n",
              "      <td>0</td>\n",
              "      <td>0</td>\n",
              "      <td>0</td>\n",
              "      <td>1</td>\n",
              "    </tr>\n",
              "    <tr>\n",
              "      <th>311</th>\n",
              "      <td>3</td>\n",
              "      <td>11.6109</td>\n",
              "      <td>-0.089696</td>\n",
              "      <td>0.194721</td>\n",
              "      <td>0</td>\n",
              "      <td>1</td>\n",
              "      <td>0</td>\n",
              "      <td>0</td>\n",
              "      <td>0</td>\n",
              "      <td>1</td>\n",
              "      <td>1</td>\n",
              "      <td>0</td>\n",
              "    </tr>\n",
              "    <tr>\n",
              "      <th>727</th>\n",
              "      <td>0</td>\n",
              "      <td>12.9008</td>\n",
              "      <td>0.421102</td>\n",
              "      <td>0.198528</td>\n",
              "      <td>0</td>\n",
              "      <td>1</td>\n",
              "      <td>0</td>\n",
              "      <td>1</td>\n",
              "      <td>0</td>\n",
              "      <td>0</td>\n",
              "      <td>1</td>\n",
              "      <td>0</td>\n",
              "    </tr>\n",
              "    <tr>\n",
              "      <th>176</th>\n",
              "      <td>2</td>\n",
              "      <td>9.0285</td>\n",
              "      <td>-1.516908</td>\n",
              "      <td>-1.243190</td>\n",
              "      <td>0</td>\n",
              "      <td>0</td>\n",
              "      <td>1</td>\n",
              "      <td>0</td>\n",
              "      <td>0</td>\n",
              "      <td>1</td>\n",
              "      <td>1</td>\n",
              "      <td>0</td>\n",
              "    </tr>\n",
              "  </tbody>\n",
              "</table>\n",
              "</div>"
            ],
            "text/plain": [
              "     Breed Name  Longevity(yrs)  ...  Attention Needs_0  Attention Needs_1\n",
              "91            0         13.0582  ...                  1                  0\n",
              "348           1          8.6452  ...                  0                  1\n",
              "311           3         11.6109  ...                  1                  0\n",
              "727           0         12.9008  ...                  1                  0\n",
              "176           2          9.0285  ...                  1                  0\n",
              "\n",
              "[5 rows x 12 columns]"
            ]
          },
          "metadata": {
            "tags": []
          },
          "execution_count": 20
        }
      ]
    },
    {
      "cell_type": "code",
      "metadata": {
        "id": "cUw5WDuG_n_X",
        "colab_type": "code",
        "outputId": "b29428ba-db3f-48eb-fadf-afbeedc09a1d",
        "colab": {
          "base_uri": "https://localhost:8080/",
          "height": 204
        }
      },
      "source": [
        "# doing the same for test\n",
        "\n",
        "df_test = pd.concat([\n",
        "         df_test,\n",
        "         pd.get_dummies(df_test['Coat Length'], prefix='Coat Length'),\n",
        "         pd.get_dummies(df_test['Energy Level'], prefix='Energy Level'),\n",
        "         pd.get_dummies(df_test['Attention Needs'], prefix='Attention Needs'),\n",
        "], axis=1).drop([\n",
        "         'Coat Length',\n",
        "         'Energy Level', \n",
        "         'Attention Needs',\n",
        "         'Weight(g)', # dropping these, they are useless now because we normalized them\n",
        "         'Height(cm)',\n",
        "], axis=1)\n",
        "\n",
        "df_test.head()"
      ],
      "execution_count": 0,
      "outputs": [
        {
          "output_type": "execute_result",
          "data": {
            "text/html": [
              "<div>\n",
              "<style scoped>\n",
              "    .dataframe tbody tr th:only-of-type {\n",
              "        vertical-align: middle;\n",
              "    }\n",
              "\n",
              "    .dataframe tbody tr th {\n",
              "        vertical-align: top;\n",
              "    }\n",
              "\n",
              "    .dataframe thead th {\n",
              "        text-align: right;\n",
              "    }\n",
              "</style>\n",
              "<table border=\"1\" class=\"dataframe\">\n",
              "  <thead>\n",
              "    <tr style=\"text-align: right;\">\n",
              "      <th></th>\n",
              "      <th>Breed Name</th>\n",
              "      <th>Longevity(yrs)</th>\n",
              "      <th>Height Normalized</th>\n",
              "      <th>Weight Normalized</th>\n",
              "      <th>Coat Length_0</th>\n",
              "      <th>Coat Length_1</th>\n",
              "      <th>Coat Length_2</th>\n",
              "      <th>Energy Level_0</th>\n",
              "      <th>Energy Level_1</th>\n",
              "      <th>Energy Level_2</th>\n",
              "      <th>Attention Needs_0</th>\n",
              "      <th>Attention Needs_1</th>\n",
              "    </tr>\n",
              "  </thead>\n",
              "  <tbody>\n",
              "    <tr>\n",
              "      <th>185</th>\n",
              "      <td>1</td>\n",
              "      <td>8.5302</td>\n",
              "      <td>0.682449</td>\n",
              "      <td>0.826399</td>\n",
              "      <td>0</td>\n",
              "      <td>1</td>\n",
              "      <td>0</td>\n",
              "      <td>1</td>\n",
              "      <td>0</td>\n",
              "      <td>0</td>\n",
              "      <td>1</td>\n",
              "      <td>0</td>\n",
              "    </tr>\n",
              "    <tr>\n",
              "      <th>599</th>\n",
              "      <td>0</td>\n",
              "      <td>11.9938</td>\n",
              "      <td>0.746596</td>\n",
              "      <td>-0.316037</td>\n",
              "      <td>0</td>\n",
              "      <td>1</td>\n",
              "      <td>0</td>\n",
              "      <td>1</td>\n",
              "      <td>0</td>\n",
              "      <td>0</td>\n",
              "      <td>1</td>\n",
              "      <td>0</td>\n",
              "    </tr>\n",
              "    <tr>\n",
              "      <th>899</th>\n",
              "      <td>2</td>\n",
              "      <td>10.1617</td>\n",
              "      <td>-1.582895</td>\n",
              "      <td>-1.312368</td>\n",
              "      <td>0</td>\n",
              "      <td>0</td>\n",
              "      <td>1</td>\n",
              "      <td>0</td>\n",
              "      <td>0</td>\n",
              "      <td>1</td>\n",
              "      <td>1</td>\n",
              "      <td>0</td>\n",
              "    </tr>\n",
              "    <tr>\n",
              "      <th>85</th>\n",
              "      <td>1</td>\n",
              "      <td>7.9939</td>\n",
              "      <td>1.134402</td>\n",
              "      <td>1.044356</td>\n",
              "      <td>0</td>\n",
              "      <td>0</td>\n",
              "      <td>1</td>\n",
              "      <td>0</td>\n",
              "      <td>0</td>\n",
              "      <td>1</td>\n",
              "      <td>1</td>\n",
              "      <td>0</td>\n",
              "    </tr>\n",
              "    <tr>\n",
              "      <th>641</th>\n",
              "      <td>3</td>\n",
              "      <td>11.9552</td>\n",
              "      <td>-0.026773</td>\n",
              "      <td>-0.747297</td>\n",
              "      <td>0</td>\n",
              "      <td>0</td>\n",
              "      <td>1</td>\n",
              "      <td>1</td>\n",
              "      <td>0</td>\n",
              "      <td>0</td>\n",
              "      <td>1</td>\n",
              "      <td>0</td>\n",
              "    </tr>\n",
              "  </tbody>\n",
              "</table>\n",
              "</div>"
            ],
            "text/plain": [
              "     Breed Name  Longevity(yrs)  ...  Attention Needs_0  Attention Needs_1\n",
              "185           1          8.5302  ...                  1                  0\n",
              "599           0         11.9938  ...                  1                  0\n",
              "899           2         10.1617  ...                  1                  0\n",
              "85            1          7.9939  ...                  1                  0\n",
              "641           3         11.9552  ...                  1                  0\n",
              "\n",
              "[5 rows x 12 columns]"
            ]
          },
          "metadata": {
            "tags": []
          },
          "execution_count": 26
        }
      ]
    },
    {
      "cell_type": "markdown",
      "metadata": {
        "id": "wtSVxCzDZ1Jo",
        "colab_type": "text"
      },
      "source": [
        "## 5. Feature Engineering\n",
        "\n",
        "We can use our domain knowledge to create aditional features for our model. \n",
        "\n",
        "For instance, we know that the **BMI (Body Mass Index)** is equal to the weight over the height of a person. But that can extend to dogs as well. If the model is complex enough, it can uncover such relationships on its own, given enough data. But it could be helpful in some situations to provide such information from the beginning, especially for a weak learner (like linear models)."
      ]
    },
    {
      "cell_type": "code",
      "metadata": {
        "id": "vA97pmC_aPyt",
        "colab_type": "code",
        "outputId": "b93d0a7c-6b1e-4bfc-92dc-a24040545404",
        "colab": {
          "base_uri": "https://localhost:8080/",
          "height": 204
        }
      },
      "source": [
        "# TODO: add an aditional column called BMI == Weight / Height.\n",
        "df_train['BMI'] = df_train['Weight Normalized'] / df_train['Height Normalized']\n",
        "df_test['BMI'] = df_test['Weight Normalized'] / df_test['Height Normalized']\n",
        "\n",
        "df_train.head()"
      ],
      "execution_count": 0,
      "outputs": [
        {
          "output_type": "execute_result",
          "data": {
            "text/html": [
              "<div>\n",
              "<style scoped>\n",
              "    .dataframe tbody tr th:only-of-type {\n",
              "        vertical-align: middle;\n",
              "    }\n",
              "\n",
              "    .dataframe tbody tr th {\n",
              "        vertical-align: top;\n",
              "    }\n",
              "\n",
              "    .dataframe thead th {\n",
              "        text-align: right;\n",
              "    }\n",
              "</style>\n",
              "<table border=\"1\" class=\"dataframe\">\n",
              "  <thead>\n",
              "    <tr style=\"text-align: right;\">\n",
              "      <th></th>\n",
              "      <th>Breed Name</th>\n",
              "      <th>Longevity(yrs)</th>\n",
              "      <th>Height Normalized</th>\n",
              "      <th>Weight Normalized</th>\n",
              "      <th>Coat Length_0</th>\n",
              "      <th>Coat Length_1</th>\n",
              "      <th>Coat Length_2</th>\n",
              "      <th>Energy Level_0</th>\n",
              "      <th>Energy Level_1</th>\n",
              "      <th>Energy Level_2</th>\n",
              "      <th>Attention Needs_0</th>\n",
              "      <th>Attention Needs_1</th>\n",
              "      <th>BMI</th>\n",
              "    </tr>\n",
              "  </thead>\n",
              "  <tbody>\n",
              "    <tr>\n",
              "      <th>91</th>\n",
              "      <td>0</td>\n",
              "      <td>13.0582</td>\n",
              "      <td>0.614549</td>\n",
              "      <td>0.744530</td>\n",
              "      <td>0</td>\n",
              "      <td>1</td>\n",
              "      <td>0</td>\n",
              "      <td>1</td>\n",
              "      <td>0</td>\n",
              "      <td>0</td>\n",
              "      <td>1</td>\n",
              "      <td>0</td>\n",
              "      <td>1.211507</td>\n",
              "    </tr>\n",
              "    <tr>\n",
              "      <th>348</th>\n",
              "      <td>1</td>\n",
              "      <td>8.6452</td>\n",
              "      <td>1.377896</td>\n",
              "      <td>0.442454</td>\n",
              "      <td>0</td>\n",
              "      <td>0</td>\n",
              "      <td>1</td>\n",
              "      <td>1</td>\n",
              "      <td>0</td>\n",
              "      <td>0</td>\n",
              "      <td>0</td>\n",
              "      <td>1</td>\n",
              "      <td>0.321109</td>\n",
              "    </tr>\n",
              "    <tr>\n",
              "      <th>311</th>\n",
              "      <td>3</td>\n",
              "      <td>11.6109</td>\n",
              "      <td>-0.089696</td>\n",
              "      <td>0.194721</td>\n",
              "      <td>0</td>\n",
              "      <td>1</td>\n",
              "      <td>0</td>\n",
              "      <td>0</td>\n",
              "      <td>0</td>\n",
              "      <td>1</td>\n",
              "      <td>1</td>\n",
              "      <td>0</td>\n",
              "      <td>-2.170902</td>\n",
              "    </tr>\n",
              "    <tr>\n",
              "      <th>727</th>\n",
              "      <td>0</td>\n",
              "      <td>12.9008</td>\n",
              "      <td>0.421102</td>\n",
              "      <td>0.198528</td>\n",
              "      <td>0</td>\n",
              "      <td>1</td>\n",
              "      <td>0</td>\n",
              "      <td>1</td>\n",
              "      <td>0</td>\n",
              "      <td>0</td>\n",
              "      <td>1</td>\n",
              "      <td>0</td>\n",
              "      <td>0.471449</td>\n",
              "    </tr>\n",
              "    <tr>\n",
              "      <th>176</th>\n",
              "      <td>2</td>\n",
              "      <td>9.0285</td>\n",
              "      <td>-1.516908</td>\n",
              "      <td>-1.243190</td>\n",
              "      <td>0</td>\n",
              "      <td>0</td>\n",
              "      <td>1</td>\n",
              "      <td>0</td>\n",
              "      <td>0</td>\n",
              "      <td>1</td>\n",
              "      <td>1</td>\n",
              "      <td>0</td>\n",
              "      <td>0.819555</td>\n",
              "    </tr>\n",
              "  </tbody>\n",
              "</table>\n",
              "</div>"
            ],
            "text/plain": [
              "     Breed Name  Longevity(yrs)  ...  Attention Needs_1       BMI\n",
              "91            0         13.0582  ...                  0  1.211507\n",
              "348           1          8.6452  ...                  1  0.321109\n",
              "311           3         11.6109  ...                  0 -2.170902\n",
              "727           0         12.9008  ...                  0  0.471449\n",
              "176           2          9.0285  ...                  0  0.819555\n",
              "\n",
              "[5 rows x 13 columns]"
            ]
          },
          "metadata": {
            "tags": []
          },
          "execution_count": 27
        }
      ]
    },
    {
      "cell_type": "markdown",
      "metadata": {
        "id": "Um3IecDjxPl5",
        "colab_type": "text"
      },
      "source": [
        "Ok, now we're ready for do some data modeling."
      ]
    },
    {
      "cell_type": "markdown",
      "metadata": {
        "colab_type": "text",
        "id": "oAQpUaflovMQ"
      },
      "source": [
        "# 6. Regression\n",
        "\n",
        "Let's make a model that predicts a dog's longevity, based on its breed.\n",
        "First, we should split our dataset into train and testing sets, we properly evaluate our model. We are interested in predicting `Longevity(yrs)`.\n",
        "\n",
        "![](https://hackernoon.com/hn-images/1*SBUK2QEfCP-zvJmKm14wGQ.png)\n"
      ]
    },
    {
      "cell_type": "code",
      "metadata": {
        "colab_type": "code",
        "id": "u5ASwYUGovMJ",
        "colab": {}
      },
      "source": [
        "from sklearn.model_selection import train_test_split\n",
        "\n",
        "X_train = df_train.drop(['Longevity(yrs)'], axis=1)\n",
        "X_test = df_test.drop(['Longevity(yrs)'], axis=1)\n",
        "\n",
        "y_train = df_train['Longevity(yrs)']\n",
        "y_test = df_test['Longevity(yrs)']"
      ],
      "execution_count": 0,
      "outputs": []
    },
    {
      "cell_type": "code",
      "metadata": {
        "colab_type": "code",
        "id": "0NFE2yc8ovL6",
        "outputId": "6a26f4b9-4523-4039-e336-66b5ad78269f",
        "colab": {
          "base_uri": "https://localhost:8080/",
          "height": 34
        }
      },
      "source": [
        "from sklearn.linear_model import LinearRegression, Ridge, Lasso\n",
        "from sklearn.metrics import r2_score\n",
        "\n",
        "\n",
        "model = LinearRegression()\n",
        "\n",
        "model.fit(X_train, y_train)\n",
        "model.score(X_test, y_test)"
      ],
      "execution_count": 0,
      "outputs": [
        {
          "output_type": "execute_result",
          "data": {
            "text/plain": [
              "0.2129783966541479"
            ]
          },
          "metadata": {
            "tags": []
          },
          "execution_count": 39
        }
      ]
    },
    {
      "cell_type": "markdown",
      "metadata": {
        "id": "5TZEp1kQanH5",
        "colab_type": "text"
      },
      "source": [
        "# 7. Classification\n",
        "\n",
        "Let's classify our dog breeds! First, we should split our dataset into train and testing sets, we properly evaluate our model. We are interested in predicting `Breed Name`."
      ]
    },
    {
      "cell_type": "code",
      "metadata": {
        "id": "q1dhl-59yA9S",
        "colab_type": "code",
        "colab": {}
      },
      "source": [
        "from sklearn.model_selection import train_test_split\n",
        "\n",
        "X_train = df_train.drop(['Breed Name'], axis=1)\n",
        "X_test = df_test.drop(['Breed Name'], axis=1)\n",
        "\n",
        "y_train = df_train['Breed Name']\n",
        "y_test = df_test['Breed Name']\n"
      ],
      "execution_count": 0,
      "outputs": []
    },
    {
      "cell_type": "code",
      "metadata": {
        "id": "rtOOrwWCauWb",
        "colab_type": "code",
        "outputId": "1fc243d9-b4d2-47f8-ff4a-6a8f12e4eb25",
        "colab": {
          "base_uri": "https://localhost:8080/",
          "height": 34
        }
      },
      "source": [
        "from sklearn.svm import SVC\n",
        "from sklearn.neighbors import KNeighborsClassifier\n",
        "from sklearn.tree import DecisionTreeClassifier\n",
        "\n",
        "from sklearn.metrics import accuracy_score\n",
        "\n",
        "model = SVC(kernel='linear') # try out different classifiers and parameters.\n",
        "model.fit(X_train, y_train)\n",
        "\n",
        "print(model.score(X_train, y_train), model.score(X_test, y_test))"
      ],
      "execution_count": 0,
      "outputs": [
        {
          "output_type": "stream",
          "text": [
            "0.992 0.972\n"
          ],
          "name": "stdout"
        }
      ]
    },
    {
      "cell_type": "markdown",
      "metadata": {
        "id": "4Xt1uJ6ynzR0",
        "colab_type": "text"
      },
      "source": [
        "# N.B.\n",
        "\n",
        "When imputing values, or normalizing using the standard scaler / min-max scaler, it is important that this normalization is performed only on the information provided in the training set. \n",
        "\n",
        "Otherwise, the evaluation on the test set is meaningless. Our model uses samples it theoretically never saw!"
      ]
    },
    {
      "cell_type": "markdown",
      "metadata": {
        "id": "fMH8xFvGpZri",
        "colab_type": "text"
      },
      "source": [
        "Check out [Kaggle](https://www.kaggle.com/)! There are plenty of datasets you can hone your skills on. \n",
        "\n",
        "Also **competitions**. With **money**. Team up and go!"
      ]
    }
  ]
}